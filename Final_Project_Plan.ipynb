{
 "cells": [
  {
   "cell_type": "markdown",
   "id": "f75da34a-9cf6-4f06-9c4a-ad704a8d2671",
   "metadata": {},
   "source": [
    "# Overview, motivation, and research questions #"
   ]
  },
  {
   "cell_type": "markdown",
   "id": "f259e9f1-2821-46c6-a8a3-d1ca12940067",
   "metadata": {},
   "source": [
    "As an experienced home cook, I frequently find myself thinking about the nutritional content of the food that I cook, and how I can make informed decisions to nourish my body. As such, I'm interested in exploring the factors that influence household food purchasing, food accesss, and overall dietary health. I believe that this will be an interesting and useful topic to cover, due to the alarming obesity epidemic in the US, and its relevance for US citizens in general. From a human-centered persepctive, this will shed light on food inequality across the United States and the difficulties that underserved communities face regarding access to healthy and affordable food.\n",
    "\n",
    "To further learn about this issue, I hope to study the following research questions:\n",
    "* What is the relationship between food insecurity and dietary quality in the United States?\n",
    "* How does this relationship vary by demographic and socioeconomic characteristics?\n",
    "* What factors affect food choices and purchasing behavior?"
   ]
  },
  {
   "cell_type": "markdown",
   "id": "657e35d3-af60-42ff-a172-b17af612665c",
   "metadata": {},
   "source": [
    "# Data selected for analysis #"
   ]
  },
  {
   "cell_type": "markdown",
   "id": "db722e8f-4584-4b4c-9759-27b90228613b",
   "metadata": {},
   "source": [
    "#### USDA National Household Food Acquisition and Purchase Survey (FoodAPS) ####\n",
    "\n",
    "I have selected the FoodAPS dataset for my analysis, as it is relevant to my research questions regarding food access and purchasing habits. It is a comprehensive survey of over 4,800 US households that contains information on food acquisition, dietary quality, food insecurity, health outcomes, food spending, demographics, and socioeconomic status. This makes it suitable for this project, as I can compare different survey categories and results to understand the impacts of food access and any important correlations that can be seen across these categories. However, I still need to respect the confidentiality of respondents, by avoiding listing individual and possibly identifiable data. I'll also take care when working with demographic data to emphasize the limitations of survey results (correlation vs. causation) and avoid reinforcing biases regarding food security in underserved communities.\n",
    "\n",
    "The dataset can be found at the following link: https://www.ers.usda.gov/data-products/foodaps-national-household-food-acquisition-and-purchase-survey/foodaps-national-household-food-acquisition-and-purchase-survey/#Public-Use%20Data%20Files%20and%20Codebooks. Here, the data can be downloaded as a CSV along with any relevant documentation.\n",
    "\n",
    "The data is publicly available on the USDA ERS website, and is released under the Creative Commons Attribution 4.0 International License."
   ]
  },
  {
   "cell_type": "markdown",
   "id": "cf5ed0d5-8037-4eb4-9244-6b8210864357",
   "metadata": {},
   "source": [
    "# Background #"
   ]
  },
  {
   "cell_type": "markdown",
   "id": "4164a2a2-5873-4eb9-be13-f7a97bc46c92",
   "metadata": {},
   "source": [
    "The relationship between food insecurity and dietary quality in the United States has been covered extensively, though I was unable to find any research that specifically used the FoodAPS dataset, hence why I chose it for this project. Past research such as a study by Cook and Frank found that food insecurity led to a unhealthier food choices--processed and high-fat foods instead of fruits and vegetables. Moreover, this effect was more common among traditionally underserved populations (low-income households, minorities, etc.). A similar study conducted by Seligman et al. found that food insecurity led to diseases such as hypertension and diabetes, as a result of high-sugar and high-sodium foods being more accessible than healthy options. I believe that the FoodAPS dataset is very relevant to this phenomenon and I hope to compare my results to these studies to further reinforce their results and potential reveal new patterns related to dietary health.\n",
    "\n",
    "\n",
    "\n",
    "Sources: \n",
    "\n",
    "Cook, J. T., & Frank, D. A. (2008). Food security, poverty, and human development in the United States. Annals of the New York Academy of Sciences, 1136, 193–209. https://doi.org/10.1196/annals.1425.001\n",
    "\n",
    "Seligman, H. K., Davis, T. C., Schillinger, D., & Wolf, M. S. (2010). Food insecurity is associated with hypoglycemia and poor diabetes self-management in a low-income sample with diabetes. Journal of health care for the poor and underserved, 21(4), 1227–1233. https://doi.org/10.1353/hpu.2010.0921"
   ]
  },
  {
   "cell_type": "markdown",
   "id": "0a699eb7-7549-47d1-a15a-de9c57839011",
   "metadata": {},
   "source": [
    "# Methodology #"
   ]
  },
  {
   "cell_type": "markdown",
   "id": "93d7e13f-b2bd-462f-9380-9b05fdd37f04",
   "metadata": {},
   "source": [
    "To investigate my research questions regarding food inequality, I plan on using descriptive statistics:\n",
    "* distribution\n",
    "* mean/median\n",
    "* range/standard deviation/variance\n",
    "\n",
    "for my wider summarizations surrounding:\n",
    "* demographics (household size, race, income)\n",
    "* food expenditures\n",
    "* dietary quality\n",
    "* health status\n",
    "* food access\n",
    "\n",
    "I will also use regression analysis to explore the relationship between food insecurity and dietary quality through these variables, examining them for correlations. I will conduct this analysis using least squares regressions, which is commonly used with economic data.\n",
    "\n",
    "\n",
    "To present my findings, I plan on mostly using scatterplots, as they are effective at visualizing relationships between multiple variables, and I will use color to show how dietary quality varies across different demographics. If appropriate, I may also include a few line graphs or bar charts. Finally, I'll present my regression results in a table as a way to communicate the significance of each variable in my analysis.\n",
    "\n",
    "Overall, my rationale behind choosing these methods was the ensure that my project was balanced in multiple regards--analysis, presentation, and comprehension. Using both descriptive statistics (breadth) and regression analysis (depth) will give me flexibility in how I process the data, as the FoodAPS dataset is quite large and may suit one method over the other. Using a variety of visualizations of my data will aid in communicating my results quickly and accurately through the use of charts, while the regression table gives my research technical credibility due to a quantitatively backed analysis."
   ]
  },
  {
   "cell_type": "markdown",
   "id": "fe15be26-1f5d-4a96-9bf9-da8c8398394d",
   "metadata": {},
   "source": [
    "# Unknowns and dependencies #"
   ]
  },
  {
   "cell_type": "markdown",
   "id": "747d199b-32ac-450f-8de8-52750ca16dec",
   "metadata": {},
   "source": [
    "My main unknown at this point in time is what *exactly* I want to focus on with my research. As the FoodAPS dataset is large and versatile, I've given myself a few options to follow but I hope to further explore the dataset before locking in my hypothesis/research questions. I also haven't scanned the data for bias (duplicated/incomplete/misleading/unrepresentative data) yet, which I will do before A5.\n",
    "\n",
    "I will not need any datasets outside of FoodAPS or to contact FoodAPS researchers, so there will be no external pressure that affects my timeline. Overall, I'm confident that I will complete this project in the time allotted barring any extraordinary circumstances."
   ]
  },
  {
   "cell_type": "markdown",
   "id": "7385e6ec-1e3c-46e2-9e9c-7041ff56465a",
   "metadata": {},
   "source": [
    "## Feedback ##\n"
   ]
  },
  {
   "cell_type": "markdown",
   "id": "2b40efc9-0a7c-4212-942e-59fe097a15de",
   "metadata": {},
   "source": [
    "After peer reviewing my proposal with a classmate, I cut down and refined my research question candidates to the three listed, I added a discussion on bias to the unknowns, and I emphasized the relevance of this data in my introduction."
   ]
  }
 ],
 "metadata": {
  "kernelspec": {
   "display_name": "Python 3 (ipykernel)",
   "language": "python",
   "name": "python3"
  },
  "language_info": {
   "codemirror_mode": {
    "name": "ipython",
    "version": 3
   },
   "file_extension": ".py",
   "mimetype": "text/x-python",
   "name": "python",
   "nbconvert_exporter": "python",
   "pygments_lexer": "ipython3",
   "version": "3.9.7"
  }
 },
 "nbformat": 4,
 "nbformat_minor": 5
}
